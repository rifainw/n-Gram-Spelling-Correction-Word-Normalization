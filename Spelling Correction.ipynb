{
 "cells": [
  {
   "cell_type": "code",
   "execution_count": 2,
   "metadata": {},
   "outputs": [
    {
     "name": "stdout",
     "output_type": "stream",
     "text": [
      "Collecting textblob\n",
      "  Downloading https://files.pythonhosted.org/packages/60/f0/1d9bfcc8ee6b83472ec571406bd0dd51c0e6330ff1a51b2d29861d389e85/textblob-0.15.3-py2.py3-none-any.whl (636kB)\n",
      "Requirement already satisfied: nltk>=3.1 in c:\\users\\asus\\anaconda3\\lib\\site-packages (from textblob) (3.4.5)\n",
      "Requirement already satisfied: six in c:\\users\\asus\\anaconda3\\lib\\site-packages (from nltk>=3.1->textblob) (1.12.0)\n",
      "Installing collected packages: textblob\n",
      "Successfully installed textblob-0.15.3\n",
      "Note: you may need to restart the kernel to use updated packages.\n"
     ]
    }
   ],
   "source": [
    "pip install textblob"
   ]
  },
  {
   "cell_type": "code",
   "execution_count": 8,
   "metadata": {},
   "outputs": [],
   "source": [
    "from textblob import TextBlob, Word, Blobber"
   ]
  },
  {
   "cell_type": "code",
   "execution_count": 62,
   "metadata": {},
   "outputs": [],
   "source": [
    "import numpy as np\n",
    "import pandas as pd\n",
    "import re"
   ]
  },
  {
   "cell_type": "code",
   "execution_count": 100,
   "metadata": {},
   "outputs": [
    {
     "data": {
      "text/plain": [
       "\"Bill_Gates is a claasic American sucess storyyy. A Super-smart kid who dropped out of colleage, he started his own companny, developed softwere that would eventuaaally run 90 percant of the world's computers, made billionns while doingggg it, and then retered and deddicated the bulk of his riches to charatable causes.\""
      ]
     },
     "execution_count": 100,
     "metadata": {},
     "output_type": "execute_result"
    }
   ],
   "source": [
    "feedback = \"Bill_Gates is a claasic American sucess storyyy. A Super-smart kid who dropped out of colleage, he started his own companny, developed softwere that would eventuaaally run 90 percant of the world's computers, made billionns while doingggg it, and then retered and deddicated the bulk of his riches to charatable causes.\"\n",
    "feedback"
   ]
  },
  {
   "cell_type": "code",
   "execution_count": 101,
   "metadata": {},
   "outputs": [
    {
     "name": "stdout",
     "output_type": "stream",
     "text": [
      "Bill_Gates is a classic American success story. A Super-smart kid who dropped out of college, he started his own company, developed software that would eventually run 90 percent of the world's computers, made billions while doingggg it, and then retired and dedicated the bulk of his riches to charitable causes.\n"
     ]
    }
   ],
   "source": [
    "text = TextBlob(feedback)\n",
    "print(text.correct())"
   ]
  },
  {
   "cell_type": "code",
   "execution_count": 102,
   "metadata": {},
   "outputs": [
    {
     "name": "stdout",
     "output_type": "stream",
     "text": [
      "[('Bill_Gates', 0.0)]\n",
      "[('is', 1.0)]\n",
      "[('a', 1.0)]\n",
      "[('classic', 1.0)]\n",
      "[('American', 1.0)]\n",
      "[('success', 1.0)]\n",
      "[('storyyy.', 0.0)]\n",
      "[('A', 1.0)]\n",
      "[('Super-smart', 0.0)]\n",
      "[('kid', 1.0)]\n",
      "[('who', 1.0)]\n",
      "[('dropped', 1.0)]\n",
      "[('out', 1.0)]\n",
      "[('of', 1.0)]\n",
      "[('college', 0.5625), ('colleges', 0.171875), ('colleagues', 0.15625), ('colleague', 0.109375)]\n",
      "[('he', 1.0)]\n",
      "[('started', 1.0)]\n",
      "[('his', 1.0)]\n",
      "[('own', 1.0)]\n",
      "[('company', 1.0)]\n",
      "[('developed', 1.0)]\n",
      "[('software', 1.0)]\n",
      "[('that', 1.0)]\n",
      "[('would', 1.0)]\n",
      "[('eventually', 1.0)]\n",
      "[('run', 1.0)]\n",
      "[('90', 1.0)]\n",
      "[('percent', 1.0)]\n",
      "[('of', 1.0)]\n",
      "[('the', 1.0)]\n",
      "[('worlds', 1.0)]\n",
      "[('computers', 1.0)]\n",
      "[('made', 1.0)]\n",
      "[('billions', 1.0)]\n",
      "[('while', 1.0)]\n",
      "[('doingggg', 0.0)]\n",
      "[('it', 0.8672458590451445), ('its', 0.13275414095485547)]\n",
      "[('and', 1.0)]\n",
      "[('then', 1.0)]\n",
      "[('retired', 0.9555555555555556), ('revered', 0.022222222222222223), ('petered', 0.022222222222222223)]\n",
      "[('and', 1.0)]\n",
      "[('dedicated', 1.0)]\n",
      "[('the', 1.0)]\n",
      "[('bulk', 1.0)]\n",
      "[('of', 1.0)]\n",
      "[('his', 1.0)]\n",
      "[('riches', 1.0)]\n",
      "[('to', 1.0)]\n",
      "[('charitable', 1.0)]\n",
      "[('causes', 1.0)]\n"
     ]
    }
   ],
   "source": [
    "for word in feedback.split(' '):\n",
    "    w = Word(word)\n",
    "    print(w.spellcheck())"
   ]
  }
 ],
 "metadata": {
  "kernelspec": {
   "display_name": "Python 3",
   "language": "python",
   "name": "python3"
  },
  "language_info": {
   "codemirror_mode": {
    "name": "ipython",
    "version": 3
   },
   "file_extension": ".py",
   "mimetype": "text/x-python",
   "name": "python",
   "nbconvert_exporter": "python",
   "pygments_lexer": "ipython3",
   "version": "3.7.4"
  }
 },
 "nbformat": 4,
 "nbformat_minor": 2
}
